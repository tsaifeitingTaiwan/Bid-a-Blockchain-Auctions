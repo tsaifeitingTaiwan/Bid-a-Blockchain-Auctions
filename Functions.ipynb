{
  "nbformat": 4,
  "nbformat_minor": 0,
  "metadata": {
    "colab": {
      "name": "Functions.ipynb",
      "provenance": [],
      "authorship_tag": "ABX9TyMYix4CYuhTKP7yx0ZHm2MF",
      "include_colab_link": true
    },
    "kernelspec": {
      "name": "python3",
      "display_name": "Python 3"
    },
    "language_info": {
      "name": "python"
    }
  },
  "cells": [
    {
      "cell_type": "markdown",
      "metadata": {
        "id": "view-in-github",
        "colab_type": "text"
      },
      "source": [
        "<a href=\"https://colab.research.google.com/github/tsaifeitingTaiwan/Bid-a-Blockchain-Auctions/blob/master/Functions.ipynb\" target=\"_parent\"><img src=\"https://colab.research.google.com/assets/colab-badge.svg\" alt=\"Open In Colab\"/></a>"
      ]
    },
    {
      "cell_type": "markdown",
      "metadata": {
        "id": "tc0zqqzhTMYZ"
      },
      "source": [
        "#Function\n"
      ]
    },
    {
      "cell_type": "markdown",
      "metadata": {
        "id": "6zA5SCS7Vchf"
      },
      "source": [
        "### Functions Overview\n"
      ]
    },
    {
      "cell_type": "markdown",
      "metadata": {
        "id": "i3LBAQuAVSV2"
      },
      "source": [
        "This is an exploration of Function\n",
        "\n",
        "![functions-overview](https://user-images.githubusercontent.com/56904169/133707902-eb85f3e6-bba4-4613-827f-f9e74dc28e3b.png)\n"
      ]
    },
    {
      "cell_type": "markdown",
      "metadata": {
        "id": "xM5pLAROVh5S"
      },
      "source": [
        "## Getting started with Functions\n"
      ]
    }
  ]
}