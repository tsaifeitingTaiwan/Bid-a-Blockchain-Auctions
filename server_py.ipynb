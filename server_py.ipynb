{
  "nbformat": 4,
  "nbformat_minor": 0,
  "metadata": {
    "colab": {
      "name": "server.py",
      "provenance": [],
      "authorship_tag": "ABX9TyNG9Z+V73hnJghYtaZm1TO8",
      "include_colab_link": true
    },
    "kernelspec": {
      "name": "python3",
      "display_name": "Python 3"
    },
    "language_info": {
      "name": "python"
    }
  },
  "cells": [
    {
      "cell_type": "markdown",
      "metadata": {
        "id": "view-in-github",
        "colab_type": "text"
      },
      "source": [
        "<a href=\"https://colab.research.google.com/github/tsaifeitingTaiwan/Bid-a-Blockchain-Auctions/blob/master/server_py.ipynb\" target=\"_parent\"><img src=\"https://colab.research.google.com/assets/colab-badge.svg\" alt=\"Open In Colab\"/></a>"
      ]
    },
    {
      "cell_type": "code",
      "metadata": {
        "id": "ToMhffYV_m4n"
      },
      "source": [
        ""
      ],
      "execution_count": null,
      "outputs": []
    },
    {
      "cell_type": "code",
      "metadata": {
        "id": "bUR2y67c_uwh"
      },
      "source": [
        "from flask import Flask\n",
        "import os\n",
        "\n",
        "PORT = 8080\n",
        "name = os.environ['NAME']\n",
        "if name == None or len(name) == 0:\n",
        "  name = \"world\"\n",
        "MESSAGE = \"Hi, \" + name + \"!\"\n",
        "print(\"Message: '\" + MESSAGE + \"'\")\n",
        "\n",
        "app = Flask(__name__)\n",
        "\n",
        "\n",
        "@app.route(\"/\")\n",
        "def root():\n",
        "  print(\"Handling web request. Returning message.\")\n",
        "  result = MESSAGE.encode(\"utf-8\")\n",
        "  return result\n",
        "\n",
        "\n",
        "if __name__ == \"__main__\":\n",
        "  app.run(debug=True, host=\"0.0.0.0\", port=PORT)\n",
        "  "
      ],
      "execution_count": null,
      "outputs": []
    }
  ]
}